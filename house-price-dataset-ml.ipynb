{
 "cells": [
  {
   "cell_type": "markdown",
   "id": "7ed6073d",
   "metadata": {
    "papermill": {
     "duration": 0.013853,
     "end_time": "2024-05-15T16:00:40.513181",
     "exception": false,
     "start_time": "2024-05-15T16:00:40.499328",
     "status": "completed"
    },
    "tags": []
   },
   "source": [
    "# Import liberaries"
   ]
  },
  {
   "cell_type": "code",
   "execution_count": 1,
   "id": "405f2626",
   "metadata": {
    "execution": {
     "iopub.execute_input": "2024-05-15T16:00:40.542166Z",
     "iopub.status.busy": "2024-05-15T16:00:40.541746Z",
     "iopub.status.idle": "2024-05-15T16:00:43.179574Z",
     "shell.execute_reply": "2024-05-15T16:00:43.178362Z"
    },
    "papermill": {
     "duration": 2.655558,
     "end_time": "2024-05-15T16:00:43.182415",
     "exception": false,
     "start_time": "2024-05-15T16:00:40.526857",
     "status": "completed"
    },
    "tags": []
   },
   "outputs": [],
   "source": [
    "import numpy as np\n",
    "import pandas as pd\n",
    "import matplotlib.pyplot as plt\n",
    "import seaborn as sns\n",
    "sns.set()\n",
    "import warnings\n",
    "warnings.filterwarnings('ignore')"
   ]
  },
  {
   "cell_type": "markdown",
   "id": "ae0a45f1",
   "metadata": {
    "papermill": {
     "duration": 0.014884,
     "end_time": "2024-05-15T16:00:43.211001",
     "exception": false,
     "start_time": "2024-05-15T16:00:43.196117",
     "status": "completed"
    },
    "tags": []
   },
   "source": [
    "# Import dataset"
   ]
  },
  {
   "cell_type": "code",
   "execution_count": 2,
   "id": "034064b3",
   "metadata": {
    "execution": {
     "iopub.execute_input": "2024-05-15T16:00:43.242792Z",
     "iopub.status.busy": "2024-05-15T16:00:43.242208Z",
     "iopub.status.idle": "2024-05-15T16:00:43.318021Z",
     "shell.execute_reply": "2024-05-15T16:00:43.316719Z"
    },
    "papermill": {
     "duration": 0.095059,
     "end_time": "2024-05-15T16:00:43.321761",
     "exception": false,
     "start_time": "2024-05-15T16:00:43.226702",
     "status": "completed"
    },
    "tags": []
   },
   "outputs": [],
   "source": [
    "ds_houses = pd.read_csv('/kaggle/input/house-price-dataset/housing.csv')"
   ]
  },
  {
   "cell_type": "code",
   "execution_count": 3,
   "id": "9bb40a10",
   "metadata": {
    "execution": {
     "iopub.execute_input": "2024-05-15T16:00:43.351729Z",
     "iopub.status.busy": "2024-05-15T16:00:43.351262Z",
     "iopub.status.idle": "2024-05-15T16:00:43.400957Z",
     "shell.execute_reply": "2024-05-15T16:00:43.399648Z"
    },
    "papermill": {
     "duration": 0.067992,
     "end_time": "2024-05-15T16:00:43.404054",
     "exception": false,
     "start_time": "2024-05-15T16:00:43.336062",
     "status": "completed"
    },
    "tags": []
   },
   "outputs": [
    {
     "data": {
      "text/html": [
       "<div>\n",
       "<style scoped>\n",
       "    .dataframe tbody tr th:only-of-type {\n",
       "        vertical-align: middle;\n",
       "    }\n",
       "\n",
       "    .dataframe tbody tr th {\n",
       "        vertical-align: top;\n",
       "    }\n",
       "\n",
       "    .dataframe thead th {\n",
       "        text-align: right;\n",
       "    }\n",
       "</style>\n",
       "<table border=\"1\" class=\"dataframe\">\n",
       "  <thead>\n",
       "    <tr style=\"text-align: right;\">\n",
       "      <th></th>\n",
       "      <th>longitude</th>\n",
       "      <th>latitude</th>\n",
       "      <th>housing_median_age</th>\n",
       "      <th>total_rooms</th>\n",
       "      <th>total_bedrooms</th>\n",
       "      <th>population</th>\n",
       "      <th>households</th>\n",
       "      <th>median_income</th>\n",
       "      <th>median_house_value</th>\n",
       "      <th>ocean_proximity</th>\n",
       "    </tr>\n",
       "  </thead>\n",
       "  <tbody>\n",
       "    <tr>\n",
       "      <th>0</th>\n",
       "      <td>-122.23</td>\n",
       "      <td>37.88</td>\n",
       "      <td>41.0</td>\n",
       "      <td>880.0</td>\n",
       "      <td>129.0</td>\n",
       "      <td>322.0</td>\n",
       "      <td>126.0</td>\n",
       "      <td>8.3252</td>\n",
       "      <td>452600.0</td>\n",
       "      <td>NEAR BAY</td>\n",
       "    </tr>\n",
       "    <tr>\n",
       "      <th>1</th>\n",
       "      <td>-122.22</td>\n",
       "      <td>37.86</td>\n",
       "      <td>21.0</td>\n",
       "      <td>7099.0</td>\n",
       "      <td>1106.0</td>\n",
       "      <td>2401.0</td>\n",
       "      <td>1138.0</td>\n",
       "      <td>8.3014</td>\n",
       "      <td>358500.0</td>\n",
       "      <td>NEAR BAY</td>\n",
       "    </tr>\n",
       "    <tr>\n",
       "      <th>2</th>\n",
       "      <td>-122.24</td>\n",
       "      <td>37.85</td>\n",
       "      <td>52.0</td>\n",
       "      <td>1467.0</td>\n",
       "      <td>190.0</td>\n",
       "      <td>496.0</td>\n",
       "      <td>177.0</td>\n",
       "      <td>7.2574</td>\n",
       "      <td>352100.0</td>\n",
       "      <td>NEAR BAY</td>\n",
       "    </tr>\n",
       "    <tr>\n",
       "      <th>3</th>\n",
       "      <td>-122.25</td>\n",
       "      <td>37.85</td>\n",
       "      <td>52.0</td>\n",
       "      <td>1274.0</td>\n",
       "      <td>235.0</td>\n",
       "      <td>558.0</td>\n",
       "      <td>219.0</td>\n",
       "      <td>5.6431</td>\n",
       "      <td>341300.0</td>\n",
       "      <td>NEAR BAY</td>\n",
       "    </tr>\n",
       "    <tr>\n",
       "      <th>4</th>\n",
       "      <td>-122.25</td>\n",
       "      <td>37.85</td>\n",
       "      <td>52.0</td>\n",
       "      <td>1627.0</td>\n",
       "      <td>280.0</td>\n",
       "      <td>565.0</td>\n",
       "      <td>259.0</td>\n",
       "      <td>3.8462</td>\n",
       "      <td>342200.0</td>\n",
       "      <td>NEAR BAY</td>\n",
       "    </tr>\n",
       "    <tr>\n",
       "      <th>...</th>\n",
       "      <td>...</td>\n",
       "      <td>...</td>\n",
       "      <td>...</td>\n",
       "      <td>...</td>\n",
       "      <td>...</td>\n",
       "      <td>...</td>\n",
       "      <td>...</td>\n",
       "      <td>...</td>\n",
       "      <td>...</td>\n",
       "      <td>...</td>\n",
       "    </tr>\n",
       "    <tr>\n",
       "      <th>20635</th>\n",
       "      <td>-121.09</td>\n",
       "      <td>39.48</td>\n",
       "      <td>25.0</td>\n",
       "      <td>1665.0</td>\n",
       "      <td>374.0</td>\n",
       "      <td>845.0</td>\n",
       "      <td>330.0</td>\n",
       "      <td>1.5603</td>\n",
       "      <td>78100.0</td>\n",
       "      <td>INLAND</td>\n",
       "    </tr>\n",
       "    <tr>\n",
       "      <th>20636</th>\n",
       "      <td>-121.21</td>\n",
       "      <td>39.49</td>\n",
       "      <td>18.0</td>\n",
       "      <td>697.0</td>\n",
       "      <td>150.0</td>\n",
       "      <td>356.0</td>\n",
       "      <td>114.0</td>\n",
       "      <td>2.5568</td>\n",
       "      <td>77100.0</td>\n",
       "      <td>INLAND</td>\n",
       "    </tr>\n",
       "    <tr>\n",
       "      <th>20637</th>\n",
       "      <td>-121.22</td>\n",
       "      <td>39.43</td>\n",
       "      <td>17.0</td>\n",
       "      <td>2254.0</td>\n",
       "      <td>485.0</td>\n",
       "      <td>1007.0</td>\n",
       "      <td>433.0</td>\n",
       "      <td>1.7000</td>\n",
       "      <td>92300.0</td>\n",
       "      <td>INLAND</td>\n",
       "    </tr>\n",
       "    <tr>\n",
       "      <th>20638</th>\n",
       "      <td>-121.32</td>\n",
       "      <td>39.43</td>\n",
       "      <td>18.0</td>\n",
       "      <td>1860.0</td>\n",
       "      <td>409.0</td>\n",
       "      <td>741.0</td>\n",
       "      <td>349.0</td>\n",
       "      <td>1.8672</td>\n",
       "      <td>84700.0</td>\n",
       "      <td>INLAND</td>\n",
       "    </tr>\n",
       "    <tr>\n",
       "      <th>20639</th>\n",
       "      <td>-121.24</td>\n",
       "      <td>39.37</td>\n",
       "      <td>16.0</td>\n",
       "      <td>2785.0</td>\n",
       "      <td>616.0</td>\n",
       "      <td>1387.0</td>\n",
       "      <td>530.0</td>\n",
       "      <td>2.3886</td>\n",
       "      <td>89400.0</td>\n",
       "      <td>INLAND</td>\n",
       "    </tr>\n",
       "  </tbody>\n",
       "</table>\n",
       "<p>20640 rows × 10 columns</p>\n",
       "</div>"
      ],
      "text/plain": [
       "       longitude  latitude  housing_median_age  total_rooms  total_bedrooms  \\\n",
       "0        -122.23     37.88                41.0        880.0           129.0   \n",
       "1        -122.22     37.86                21.0       7099.0          1106.0   \n",
       "2        -122.24     37.85                52.0       1467.0           190.0   \n",
       "3        -122.25     37.85                52.0       1274.0           235.0   \n",
       "4        -122.25     37.85                52.0       1627.0           280.0   \n",
       "...          ...       ...                 ...          ...             ...   \n",
       "20635    -121.09     39.48                25.0       1665.0           374.0   \n",
       "20636    -121.21     39.49                18.0        697.0           150.0   \n",
       "20637    -121.22     39.43                17.0       2254.0           485.0   \n",
       "20638    -121.32     39.43                18.0       1860.0           409.0   \n",
       "20639    -121.24     39.37                16.0       2785.0           616.0   \n",
       "\n",
       "       population  households  median_income  median_house_value  \\\n",
       "0           322.0       126.0         8.3252            452600.0   \n",
       "1          2401.0      1138.0         8.3014            358500.0   \n",
       "2           496.0       177.0         7.2574            352100.0   \n",
       "3           558.0       219.0         5.6431            341300.0   \n",
       "4           565.0       259.0         3.8462            342200.0   \n",
       "...           ...         ...            ...                 ...   \n",
       "20635       845.0       330.0         1.5603             78100.0   \n",
       "20636       356.0       114.0         2.5568             77100.0   \n",
       "20637      1007.0       433.0         1.7000             92300.0   \n",
       "20638       741.0       349.0         1.8672             84700.0   \n",
       "20639      1387.0       530.0         2.3886             89400.0   \n",
       "\n",
       "      ocean_proximity  \n",
       "0            NEAR BAY  \n",
       "1            NEAR BAY  \n",
       "2            NEAR BAY  \n",
       "3            NEAR BAY  \n",
       "4            NEAR BAY  \n",
       "...               ...  \n",
       "20635          INLAND  \n",
       "20636          INLAND  \n",
       "20637          INLAND  \n",
       "20638          INLAND  \n",
       "20639          INLAND  \n",
       "\n",
       "[20640 rows x 10 columns]"
      ]
     },
     "execution_count": 3,
     "metadata": {},
     "output_type": "execute_result"
    }
   ],
   "source": [
    "ds_houses"
   ]
  },
  {
   "cell_type": "markdown",
   "id": "c95732b7",
   "metadata": {
    "papermill": {
     "duration": 0.013594,
     "end_time": "2024-05-15T16:00:43.432081",
     "exception": false,
     "start_time": "2024-05-15T16:00:43.418487",
     "status": "completed"
    },
    "tags": []
   },
   "source": [
    "# Dataset description"
   ]
  },
  {
   "cell_type": "code",
   "execution_count": 4,
   "id": "2cde65b2",
   "metadata": {
    "execution": {
     "iopub.execute_input": "2024-05-15T16:00:43.462307Z",
     "iopub.status.busy": "2024-05-15T16:00:43.461274Z",
     "iopub.status.idle": "2024-05-15T16:00:43.492806Z",
     "shell.execute_reply": "2024-05-15T16:00:43.491638Z"
    },
    "papermill": {
     "duration": 0.049525,
     "end_time": "2024-05-15T16:00:43.495556",
     "exception": false,
     "start_time": "2024-05-15T16:00:43.446031",
     "status": "completed"
    },
    "tags": []
   },
   "outputs": [
    {
     "name": "stdout",
     "output_type": "stream",
     "text": [
      "<class 'pandas.core.frame.DataFrame'>\n",
      "RangeIndex: 20640 entries, 0 to 20639\n",
      "Data columns (total 10 columns):\n",
      " #   Column              Non-Null Count  Dtype  \n",
      "---  ------              --------------  -----  \n",
      " 0   longitude           20640 non-null  float64\n",
      " 1   latitude            20640 non-null  float64\n",
      " 2   housing_median_age  20640 non-null  float64\n",
      " 3   total_rooms         20640 non-null  float64\n",
      " 4   total_bedrooms      20433 non-null  float64\n",
      " 5   population          20640 non-null  float64\n",
      " 6   households          20640 non-null  float64\n",
      " 7   median_income       20640 non-null  float64\n",
      " 8   median_house_value  20640 non-null  float64\n",
      " 9   ocean_proximity     20640 non-null  object \n",
      "dtypes: float64(9), object(1)\n",
      "memory usage: 1.6+ MB\n"
     ]
    }
   ],
   "source": [
    "ds_houses.info()"
   ]
  },
  {
   "cell_type": "code",
   "execution_count": 5,
   "id": "dd4e8e4d",
   "metadata": {
    "execution": {
     "iopub.execute_input": "2024-05-15T16:00:43.526387Z",
     "iopub.status.busy": "2024-05-15T16:00:43.525986Z",
     "iopub.status.idle": "2024-05-15T16:00:43.539475Z",
     "shell.execute_reply": "2024-05-15T16:00:43.537914Z"
    },
    "papermill": {
     "duration": 0.03276,
     "end_time": "2024-05-15T16:00:43.542464",
     "exception": false,
     "start_time": "2024-05-15T16:00:43.509704",
     "status": "completed"
    },
    "tags": []
   },
   "outputs": [
    {
     "data": {
      "text/plain": [
       "longitude               0\n",
       "latitude                0\n",
       "housing_median_age      0\n",
       "total_rooms             0\n",
       "total_bedrooms        207\n",
       "population              0\n",
       "households              0\n",
       "median_income           0\n",
       "median_house_value      0\n",
       "ocean_proximity         0\n",
       "dtype: int64"
      ]
     },
     "execution_count": 5,
     "metadata": {},
     "output_type": "execute_result"
    }
   ],
   "source": [
    "ds_houses.isnull().sum()"
   ]
  },
  {
   "cell_type": "code",
   "execution_count": 6,
   "id": "0923d936",
   "metadata": {
    "execution": {
     "iopub.execute_input": "2024-05-15T16:00:43.573235Z",
     "iopub.status.busy": "2024-05-15T16:00:43.572801Z",
     "iopub.status.idle": "2024-05-15T16:00:43.584754Z",
     "shell.execute_reply": "2024-05-15T16:00:43.583508Z"
    },
    "papermill": {
     "duration": 0.030622,
     "end_time": "2024-05-15T16:00:43.587639",
     "exception": false,
     "start_time": "2024-05-15T16:00:43.557017",
     "status": "completed"
    },
    "tags": []
   },
   "outputs": [
    {
     "data": {
      "text/plain": [
       "longitude               0\n",
       "latitude                0\n",
       "housing_median_age      0\n",
       "total_rooms             0\n",
       "total_bedrooms        207\n",
       "population              0\n",
       "households              0\n",
       "median_income           0\n",
       "median_house_value      0\n",
       "ocean_proximity         0\n",
       "dtype: int64"
      ]
     },
     "execution_count": 6,
     "metadata": {},
     "output_type": "execute_result"
    }
   ],
   "source": [
    "pd.isnull(ds_houses).sum()"
   ]
  },
  {
   "cell_type": "code",
   "execution_count": 7,
   "id": "930dbc18",
   "metadata": {
    "execution": {
     "iopub.execute_input": "2024-05-15T16:00:43.619491Z",
     "iopub.status.busy": "2024-05-15T16:00:43.619052Z",
     "iopub.status.idle": "2024-05-15T16:00:43.650725Z",
     "shell.execute_reply": "2024-05-15T16:00:43.649309Z"
    },
    "papermill": {
     "duration": 0.051107,
     "end_time": "2024-05-15T16:00:43.653513",
     "exception": false,
     "start_time": "2024-05-15T16:00:43.602406",
     "status": "completed"
    },
    "tags": []
   },
   "outputs": [
    {
     "data": {
      "text/html": [
       "<div>\n",
       "<style scoped>\n",
       "    .dataframe tbody tr th:only-of-type {\n",
       "        vertical-align: middle;\n",
       "    }\n",
       "\n",
       "    .dataframe tbody tr th {\n",
       "        vertical-align: top;\n",
       "    }\n",
       "\n",
       "    .dataframe thead th {\n",
       "        text-align: right;\n",
       "    }\n",
       "</style>\n",
       "<table border=\"1\" class=\"dataframe\">\n",
       "  <thead>\n",
       "    <tr style=\"text-align: right;\">\n",
       "      <th></th>\n",
       "      <th>longitude</th>\n",
       "      <th>latitude</th>\n",
       "      <th>housing_median_age</th>\n",
       "      <th>total_rooms</th>\n",
       "      <th>total_bedrooms</th>\n",
       "      <th>population</th>\n",
       "      <th>households</th>\n",
       "      <th>median_income</th>\n",
       "      <th>median_house_value</th>\n",
       "      <th>ocean_proximity</th>\n",
       "    </tr>\n",
       "  </thead>\n",
       "  <tbody>\n",
       "    <tr>\n",
       "      <th>0</th>\n",
       "      <td>-122.23</td>\n",
       "      <td>37.88</td>\n",
       "      <td>41.0</td>\n",
       "      <td>880.0</td>\n",
       "      <td>129.0</td>\n",
       "      <td>322.0</td>\n",
       "      <td>126.0</td>\n",
       "      <td>8.3252</td>\n",
       "      <td>452600.0</td>\n",
       "      <td>NEAR BAY</td>\n",
       "    </tr>\n",
       "    <tr>\n",
       "      <th>1</th>\n",
       "      <td>-122.22</td>\n",
       "      <td>37.86</td>\n",
       "      <td>21.0</td>\n",
       "      <td>7099.0</td>\n",
       "      <td>1106.0</td>\n",
       "      <td>2401.0</td>\n",
       "      <td>1138.0</td>\n",
       "      <td>8.3014</td>\n",
       "      <td>358500.0</td>\n",
       "      <td>NEAR BAY</td>\n",
       "    </tr>\n",
       "    <tr>\n",
       "      <th>2</th>\n",
       "      <td>-122.24</td>\n",
       "      <td>37.85</td>\n",
       "      <td>52.0</td>\n",
       "      <td>1467.0</td>\n",
       "      <td>190.0</td>\n",
       "      <td>496.0</td>\n",
       "      <td>177.0</td>\n",
       "      <td>7.2574</td>\n",
       "      <td>352100.0</td>\n",
       "      <td>NEAR BAY</td>\n",
       "    </tr>\n",
       "    <tr>\n",
       "      <th>3</th>\n",
       "      <td>-122.25</td>\n",
       "      <td>37.85</td>\n",
       "      <td>52.0</td>\n",
       "      <td>1274.0</td>\n",
       "      <td>235.0</td>\n",
       "      <td>558.0</td>\n",
       "      <td>219.0</td>\n",
       "      <td>5.6431</td>\n",
       "      <td>341300.0</td>\n",
       "      <td>NEAR BAY</td>\n",
       "    </tr>\n",
       "    <tr>\n",
       "      <th>4</th>\n",
       "      <td>-122.25</td>\n",
       "      <td>37.85</td>\n",
       "      <td>52.0</td>\n",
       "      <td>1627.0</td>\n",
       "      <td>280.0</td>\n",
       "      <td>565.0</td>\n",
       "      <td>259.0</td>\n",
       "      <td>3.8462</td>\n",
       "      <td>342200.0</td>\n",
       "      <td>NEAR BAY</td>\n",
       "    </tr>\n",
       "    <tr>\n",
       "      <th>5</th>\n",
       "      <td>-122.25</td>\n",
       "      <td>37.85</td>\n",
       "      <td>52.0</td>\n",
       "      <td>919.0</td>\n",
       "      <td>213.0</td>\n",
       "      <td>413.0</td>\n",
       "      <td>193.0</td>\n",
       "      <td>4.0368</td>\n",
       "      <td>269700.0</td>\n",
       "      <td>NEAR BAY</td>\n",
       "    </tr>\n",
       "    <tr>\n",
       "      <th>6</th>\n",
       "      <td>-122.25</td>\n",
       "      <td>37.84</td>\n",
       "      <td>52.0</td>\n",
       "      <td>2535.0</td>\n",
       "      <td>489.0</td>\n",
       "      <td>1094.0</td>\n",
       "      <td>514.0</td>\n",
       "      <td>3.6591</td>\n",
       "      <td>299200.0</td>\n",
       "      <td>NEAR BAY</td>\n",
       "    </tr>\n",
       "    <tr>\n",
       "      <th>7</th>\n",
       "      <td>-122.25</td>\n",
       "      <td>37.84</td>\n",
       "      <td>52.0</td>\n",
       "      <td>3104.0</td>\n",
       "      <td>687.0</td>\n",
       "      <td>1157.0</td>\n",
       "      <td>647.0</td>\n",
       "      <td>3.1200</td>\n",
       "      <td>241400.0</td>\n",
       "      <td>NEAR BAY</td>\n",
       "    </tr>\n",
       "    <tr>\n",
       "      <th>8</th>\n",
       "      <td>-122.26</td>\n",
       "      <td>37.84</td>\n",
       "      <td>42.0</td>\n",
       "      <td>2555.0</td>\n",
       "      <td>665.0</td>\n",
       "      <td>1206.0</td>\n",
       "      <td>595.0</td>\n",
       "      <td>2.0804</td>\n",
       "      <td>226700.0</td>\n",
       "      <td>NEAR BAY</td>\n",
       "    </tr>\n",
       "    <tr>\n",
       "      <th>9</th>\n",
       "      <td>-122.25</td>\n",
       "      <td>37.84</td>\n",
       "      <td>52.0</td>\n",
       "      <td>3549.0</td>\n",
       "      <td>707.0</td>\n",
       "      <td>1551.0</td>\n",
       "      <td>714.0</td>\n",
       "      <td>3.6912</td>\n",
       "      <td>261100.0</td>\n",
       "      <td>NEAR BAY</td>\n",
       "    </tr>\n",
       "  </tbody>\n",
       "</table>\n",
       "</div>"
      ],
      "text/plain": [
       "   longitude  latitude  housing_median_age  total_rooms  total_bedrooms  \\\n",
       "0    -122.23     37.88                41.0        880.0           129.0   \n",
       "1    -122.22     37.86                21.0       7099.0          1106.0   \n",
       "2    -122.24     37.85                52.0       1467.0           190.0   \n",
       "3    -122.25     37.85                52.0       1274.0           235.0   \n",
       "4    -122.25     37.85                52.0       1627.0           280.0   \n",
       "5    -122.25     37.85                52.0        919.0           213.0   \n",
       "6    -122.25     37.84                52.0       2535.0           489.0   \n",
       "7    -122.25     37.84                52.0       3104.0           687.0   \n",
       "8    -122.26     37.84                42.0       2555.0           665.0   \n",
       "9    -122.25     37.84                52.0       3549.0           707.0   \n",
       "\n",
       "   population  households  median_income  median_house_value ocean_proximity  \n",
       "0       322.0       126.0         8.3252            452600.0        NEAR BAY  \n",
       "1      2401.0      1138.0         8.3014            358500.0        NEAR BAY  \n",
       "2       496.0       177.0         7.2574            352100.0        NEAR BAY  \n",
       "3       558.0       219.0         5.6431            341300.0        NEAR BAY  \n",
       "4       565.0       259.0         3.8462            342200.0        NEAR BAY  \n",
       "5       413.0       193.0         4.0368            269700.0        NEAR BAY  \n",
       "6      1094.0       514.0         3.6591            299200.0        NEAR BAY  \n",
       "7      1157.0       647.0         3.1200            241400.0        NEAR BAY  \n",
       "8      1206.0       595.0         2.0804            226700.0        NEAR BAY  \n",
       "9      1551.0       714.0         3.6912            261100.0        NEAR BAY  "
      ]
     },
     "execution_count": 7,
     "metadata": {},
     "output_type": "execute_result"
    }
   ],
   "source": [
    "ds_houses.head(10)"
   ]
  },
  {
   "cell_type": "code",
   "execution_count": 8,
   "id": "05d927fe",
   "metadata": {
    "execution": {
     "iopub.execute_input": "2024-05-15T16:00:43.685363Z",
     "iopub.status.busy": "2024-05-15T16:00:43.684934Z",
     "iopub.status.idle": "2024-05-15T16:00:43.712348Z",
     "shell.execute_reply": "2024-05-15T16:00:43.711174Z"
    },
    "papermill": {
     "duration": 0.046945,
     "end_time": "2024-05-15T16:00:43.715263",
     "exception": false,
     "start_time": "2024-05-15T16:00:43.668318",
     "status": "completed"
    },
    "tags": []
   },
   "outputs": [
    {
     "data": {
      "text/html": [
       "<div>\n",
       "<style scoped>\n",
       "    .dataframe tbody tr th:only-of-type {\n",
       "        vertical-align: middle;\n",
       "    }\n",
       "\n",
       "    .dataframe tbody tr th {\n",
       "        vertical-align: top;\n",
       "    }\n",
       "\n",
       "    .dataframe thead th {\n",
       "        text-align: right;\n",
       "    }\n",
       "</style>\n",
       "<table border=\"1\" class=\"dataframe\">\n",
       "  <thead>\n",
       "    <tr style=\"text-align: right;\">\n",
       "      <th></th>\n",
       "      <th>longitude</th>\n",
       "      <th>latitude</th>\n",
       "      <th>housing_median_age</th>\n",
       "      <th>total_rooms</th>\n",
       "      <th>total_bedrooms</th>\n",
       "      <th>population</th>\n",
       "      <th>households</th>\n",
       "      <th>median_income</th>\n",
       "      <th>median_house_value</th>\n",
       "      <th>ocean_proximity</th>\n",
       "    </tr>\n",
       "  </thead>\n",
       "  <tbody>\n",
       "    <tr>\n",
       "      <th>20630</th>\n",
       "      <td>-121.32</td>\n",
       "      <td>39.29</td>\n",
       "      <td>11.0</td>\n",
       "      <td>2640.0</td>\n",
       "      <td>505.0</td>\n",
       "      <td>1257.0</td>\n",
       "      <td>445.0</td>\n",
       "      <td>3.5673</td>\n",
       "      <td>112000.0</td>\n",
       "      <td>INLAND</td>\n",
       "    </tr>\n",
       "    <tr>\n",
       "      <th>20631</th>\n",
       "      <td>-121.40</td>\n",
       "      <td>39.33</td>\n",
       "      <td>15.0</td>\n",
       "      <td>2655.0</td>\n",
       "      <td>493.0</td>\n",
       "      <td>1200.0</td>\n",
       "      <td>432.0</td>\n",
       "      <td>3.5179</td>\n",
       "      <td>107200.0</td>\n",
       "      <td>INLAND</td>\n",
       "    </tr>\n",
       "    <tr>\n",
       "      <th>20632</th>\n",
       "      <td>-121.45</td>\n",
       "      <td>39.26</td>\n",
       "      <td>15.0</td>\n",
       "      <td>2319.0</td>\n",
       "      <td>416.0</td>\n",
       "      <td>1047.0</td>\n",
       "      <td>385.0</td>\n",
       "      <td>3.1250</td>\n",
       "      <td>115600.0</td>\n",
       "      <td>INLAND</td>\n",
       "    </tr>\n",
       "    <tr>\n",
       "      <th>20633</th>\n",
       "      <td>-121.53</td>\n",
       "      <td>39.19</td>\n",
       "      <td>27.0</td>\n",
       "      <td>2080.0</td>\n",
       "      <td>412.0</td>\n",
       "      <td>1082.0</td>\n",
       "      <td>382.0</td>\n",
       "      <td>2.5495</td>\n",
       "      <td>98300.0</td>\n",
       "      <td>INLAND</td>\n",
       "    </tr>\n",
       "    <tr>\n",
       "      <th>20634</th>\n",
       "      <td>-121.56</td>\n",
       "      <td>39.27</td>\n",
       "      <td>28.0</td>\n",
       "      <td>2332.0</td>\n",
       "      <td>395.0</td>\n",
       "      <td>1041.0</td>\n",
       "      <td>344.0</td>\n",
       "      <td>3.7125</td>\n",
       "      <td>116800.0</td>\n",
       "      <td>INLAND</td>\n",
       "    </tr>\n",
       "    <tr>\n",
       "      <th>20635</th>\n",
       "      <td>-121.09</td>\n",
       "      <td>39.48</td>\n",
       "      <td>25.0</td>\n",
       "      <td>1665.0</td>\n",
       "      <td>374.0</td>\n",
       "      <td>845.0</td>\n",
       "      <td>330.0</td>\n",
       "      <td>1.5603</td>\n",
       "      <td>78100.0</td>\n",
       "      <td>INLAND</td>\n",
       "    </tr>\n",
       "    <tr>\n",
       "      <th>20636</th>\n",
       "      <td>-121.21</td>\n",
       "      <td>39.49</td>\n",
       "      <td>18.0</td>\n",
       "      <td>697.0</td>\n",
       "      <td>150.0</td>\n",
       "      <td>356.0</td>\n",
       "      <td>114.0</td>\n",
       "      <td>2.5568</td>\n",
       "      <td>77100.0</td>\n",
       "      <td>INLAND</td>\n",
       "    </tr>\n",
       "    <tr>\n",
       "      <th>20637</th>\n",
       "      <td>-121.22</td>\n",
       "      <td>39.43</td>\n",
       "      <td>17.0</td>\n",
       "      <td>2254.0</td>\n",
       "      <td>485.0</td>\n",
       "      <td>1007.0</td>\n",
       "      <td>433.0</td>\n",
       "      <td>1.7000</td>\n",
       "      <td>92300.0</td>\n",
       "      <td>INLAND</td>\n",
       "    </tr>\n",
       "    <tr>\n",
       "      <th>20638</th>\n",
       "      <td>-121.32</td>\n",
       "      <td>39.43</td>\n",
       "      <td>18.0</td>\n",
       "      <td>1860.0</td>\n",
       "      <td>409.0</td>\n",
       "      <td>741.0</td>\n",
       "      <td>349.0</td>\n",
       "      <td>1.8672</td>\n",
       "      <td>84700.0</td>\n",
       "      <td>INLAND</td>\n",
       "    </tr>\n",
       "    <tr>\n",
       "      <th>20639</th>\n",
       "      <td>-121.24</td>\n",
       "      <td>39.37</td>\n",
       "      <td>16.0</td>\n",
       "      <td>2785.0</td>\n",
       "      <td>616.0</td>\n",
       "      <td>1387.0</td>\n",
       "      <td>530.0</td>\n",
       "      <td>2.3886</td>\n",
       "      <td>89400.0</td>\n",
       "      <td>INLAND</td>\n",
       "    </tr>\n",
       "  </tbody>\n",
       "</table>\n",
       "</div>"
      ],
      "text/plain": [
       "       longitude  latitude  housing_median_age  total_rooms  total_bedrooms  \\\n",
       "20630    -121.32     39.29                11.0       2640.0           505.0   \n",
       "20631    -121.40     39.33                15.0       2655.0           493.0   \n",
       "20632    -121.45     39.26                15.0       2319.0           416.0   \n",
       "20633    -121.53     39.19                27.0       2080.0           412.0   \n",
       "20634    -121.56     39.27                28.0       2332.0           395.0   \n",
       "20635    -121.09     39.48                25.0       1665.0           374.0   \n",
       "20636    -121.21     39.49                18.0        697.0           150.0   \n",
       "20637    -121.22     39.43                17.0       2254.0           485.0   \n",
       "20638    -121.32     39.43                18.0       1860.0           409.0   \n",
       "20639    -121.24     39.37                16.0       2785.0           616.0   \n",
       "\n",
       "       population  households  median_income  median_house_value  \\\n",
       "20630      1257.0       445.0         3.5673            112000.0   \n",
       "20631      1200.0       432.0         3.5179            107200.0   \n",
       "20632      1047.0       385.0         3.1250            115600.0   \n",
       "20633      1082.0       382.0         2.5495             98300.0   \n",
       "20634      1041.0       344.0         3.7125            116800.0   \n",
       "20635       845.0       330.0         1.5603             78100.0   \n",
       "20636       356.0       114.0         2.5568             77100.0   \n",
       "20637      1007.0       433.0         1.7000             92300.0   \n",
       "20638       741.0       349.0         1.8672             84700.0   \n",
       "20639      1387.0       530.0         2.3886             89400.0   \n",
       "\n",
       "      ocean_proximity  \n",
       "20630          INLAND  \n",
       "20631          INLAND  \n",
       "20632          INLAND  \n",
       "20633          INLAND  \n",
       "20634          INLAND  \n",
       "20635          INLAND  \n",
       "20636          INLAND  \n",
       "20637          INLAND  \n",
       "20638          INLAND  \n",
       "20639          INLAND  "
      ]
     },
     "execution_count": 8,
     "metadata": {},
     "output_type": "execute_result"
    }
   ],
   "source": [
    "ds_houses.tail(10)"
   ]
  },
  {
   "cell_type": "code",
   "execution_count": 9,
   "id": "9ce740ca",
   "metadata": {
    "execution": {
     "iopub.execute_input": "2024-05-15T16:00:43.747448Z",
     "iopub.status.busy": "2024-05-15T16:00:43.747046Z",
     "iopub.status.idle": "2024-05-15T16:00:43.776465Z",
     "shell.execute_reply": "2024-05-15T16:00:43.775049Z"
    },
    "papermill": {
     "duration": 0.048686,
     "end_time": "2024-05-15T16:00:43.779102",
     "exception": false,
     "start_time": "2024-05-15T16:00:43.730416",
     "status": "completed"
    },
    "tags": []
   },
   "outputs": [
    {
     "data": {
      "text/html": [
       "<div>\n",
       "<style scoped>\n",
       "    .dataframe tbody tr th:only-of-type {\n",
       "        vertical-align: middle;\n",
       "    }\n",
       "\n",
       "    .dataframe tbody tr th {\n",
       "        vertical-align: top;\n",
       "    }\n",
       "\n",
       "    .dataframe thead th {\n",
       "        text-align: right;\n",
       "    }\n",
       "</style>\n",
       "<table border=\"1\" class=\"dataframe\">\n",
       "  <thead>\n",
       "    <tr style=\"text-align: right;\">\n",
       "      <th></th>\n",
       "      <th>longitude</th>\n",
       "      <th>latitude</th>\n",
       "      <th>housing_median_age</th>\n",
       "      <th>total_rooms</th>\n",
       "      <th>total_bedrooms</th>\n",
       "      <th>population</th>\n",
       "      <th>households</th>\n",
       "      <th>median_income</th>\n",
       "      <th>median_house_value</th>\n",
       "      <th>ocean_proximity</th>\n",
       "    </tr>\n",
       "  </thead>\n",
       "  <tbody>\n",
       "    <tr>\n",
       "      <th>2504</th>\n",
       "      <td>-120.45</td>\n",
       "      <td>36.86</td>\n",
       "      <td>34.0</td>\n",
       "      <td>673.0</td>\n",
       "      <td>173.0</td>\n",
       "      <td>539.0</td>\n",
       "      <td>182.0</td>\n",
       "      <td>2.3523</td>\n",
       "      <td>66000.0</td>\n",
       "      <td>INLAND</td>\n",
       "    </tr>\n",
       "    <tr>\n",
       "      <th>16747</th>\n",
       "      <td>-122.46</td>\n",
       "      <td>37.69</td>\n",
       "      <td>35.0</td>\n",
       "      <td>1983.0</td>\n",
       "      <td>385.0</td>\n",
       "      <td>1577.0</td>\n",
       "      <td>414.0</td>\n",
       "      <td>4.0833</td>\n",
       "      <td>266700.0</td>\n",
       "      <td>NEAR OCEAN</td>\n",
       "    </tr>\n",
       "    <tr>\n",
       "      <th>2340</th>\n",
       "      <td>-119.67</td>\n",
       "      <td>36.81</td>\n",
       "      <td>4.0</td>\n",
       "      <td>1262.0</td>\n",
       "      <td>216.0</td>\n",
       "      <td>622.0</td>\n",
       "      <td>199.0</td>\n",
       "      <td>4.9432</td>\n",
       "      <td>114400.0</td>\n",
       "      <td>INLAND</td>\n",
       "    </tr>\n",
       "    <tr>\n",
       "      <th>17126</th>\n",
       "      <td>-122.13</td>\n",
       "      <td>37.46</td>\n",
       "      <td>31.0</td>\n",
       "      <td>2247.0</td>\n",
       "      <td>573.0</td>\n",
       "      <td>1711.0</td>\n",
       "      <td>511.0</td>\n",
       "      <td>3.2642</td>\n",
       "      <td>185600.0</td>\n",
       "      <td>NEAR BAY</td>\n",
       "    </tr>\n",
       "    <tr>\n",
       "      <th>13840</th>\n",
       "      <td>-117.30</td>\n",
       "      <td>34.54</td>\n",
       "      <td>25.0</td>\n",
       "      <td>2546.0</td>\n",
       "      <td>488.0</td>\n",
       "      <td>1338.0</td>\n",
       "      <td>487.0</td>\n",
       "      <td>3.2596</td>\n",
       "      <td>85400.0</td>\n",
       "      <td>INLAND</td>\n",
       "    </tr>\n",
       "    <tr>\n",
       "      <th>14129</th>\n",
       "      <td>-117.09</td>\n",
       "      <td>32.75</td>\n",
       "      <td>20.0</td>\n",
       "      <td>1701.0</td>\n",
       "      <td>503.0</td>\n",
       "      <td>1482.0</td>\n",
       "      <td>465.0</td>\n",
       "      <td>1.6789</td>\n",
       "      <td>95500.0</td>\n",
       "      <td>NEAR OCEAN</td>\n",
       "    </tr>\n",
       "    <tr>\n",
       "      <th>1424</th>\n",
       "      <td>-122.03</td>\n",
       "      <td>37.98</td>\n",
       "      <td>16.0</td>\n",
       "      <td>1209.0</td>\n",
       "      <td>477.0</td>\n",
       "      <td>627.0</td>\n",
       "      <td>482.0</td>\n",
       "      <td>1.3894</td>\n",
       "      <td>156300.0</td>\n",
       "      <td>NEAR BAY</td>\n",
       "    </tr>\n",
       "    <tr>\n",
       "      <th>1315</th>\n",
       "      <td>-121.79</td>\n",
       "      <td>37.99</td>\n",
       "      <td>18.0</td>\n",
       "      <td>3646.0</td>\n",
       "      <td>534.0</td>\n",
       "      <td>1651.0</td>\n",
       "      <td>535.0</td>\n",
       "      <td>5.7321</td>\n",
       "      <td>164700.0</td>\n",
       "      <td>INLAND</td>\n",
       "    </tr>\n",
       "    <tr>\n",
       "      <th>15115</th>\n",
       "      <td>-117.01</td>\n",
       "      <td>32.85</td>\n",
       "      <td>23.0</td>\n",
       "      <td>2592.0</td>\n",
       "      <td>414.0</td>\n",
       "      <td>1401.0</td>\n",
       "      <td>431.0</td>\n",
       "      <td>5.4903</td>\n",
       "      <td>151400.0</td>\n",
       "      <td>&lt;1H OCEAN</td>\n",
       "    </tr>\n",
       "    <tr>\n",
       "      <th>17777</th>\n",
       "      <td>-121.85</td>\n",
       "      <td>37.38</td>\n",
       "      <td>12.0</td>\n",
       "      <td>12980.0</td>\n",
       "      <td>2568.0</td>\n",
       "      <td>8190.0</td>\n",
       "      <td>2515.0</td>\n",
       "      <td>5.2415</td>\n",
       "      <td>286500.0</td>\n",
       "      <td>&lt;1H OCEAN</td>\n",
       "    </tr>\n",
       "  </tbody>\n",
       "</table>\n",
       "</div>"
      ],
      "text/plain": [
       "       longitude  latitude  housing_median_age  total_rooms  total_bedrooms  \\\n",
       "2504     -120.45     36.86                34.0        673.0           173.0   \n",
       "16747    -122.46     37.69                35.0       1983.0           385.0   \n",
       "2340     -119.67     36.81                 4.0       1262.0           216.0   \n",
       "17126    -122.13     37.46                31.0       2247.0           573.0   \n",
       "13840    -117.30     34.54                25.0       2546.0           488.0   \n",
       "14129    -117.09     32.75                20.0       1701.0           503.0   \n",
       "1424     -122.03     37.98                16.0       1209.0           477.0   \n",
       "1315     -121.79     37.99                18.0       3646.0           534.0   \n",
       "15115    -117.01     32.85                23.0       2592.0           414.0   \n",
       "17777    -121.85     37.38                12.0      12980.0          2568.0   \n",
       "\n",
       "       population  households  median_income  median_house_value  \\\n",
       "2504        539.0       182.0         2.3523             66000.0   \n",
       "16747      1577.0       414.0         4.0833            266700.0   \n",
       "2340        622.0       199.0         4.9432            114400.0   \n",
       "17126      1711.0       511.0         3.2642            185600.0   \n",
       "13840      1338.0       487.0         3.2596             85400.0   \n",
       "14129      1482.0       465.0         1.6789             95500.0   \n",
       "1424        627.0       482.0         1.3894            156300.0   \n",
       "1315       1651.0       535.0         5.7321            164700.0   \n",
       "15115      1401.0       431.0         5.4903            151400.0   \n",
       "17777      8190.0      2515.0         5.2415            286500.0   \n",
       "\n",
       "      ocean_proximity  \n",
       "2504           INLAND  \n",
       "16747      NEAR OCEAN  \n",
       "2340           INLAND  \n",
       "17126        NEAR BAY  \n",
       "13840          INLAND  \n",
       "14129      NEAR OCEAN  \n",
       "1424         NEAR BAY  \n",
       "1315           INLAND  \n",
       "15115       <1H OCEAN  \n",
       "17777       <1H OCEAN  "
      ]
     },
     "execution_count": 9,
     "metadata": {},
     "output_type": "execute_result"
    }
   ],
   "source": [
    "ds_houses.sample(10)"
   ]
  },
  {
   "cell_type": "markdown",
   "id": "00082753",
   "metadata": {
    "papermill": {
     "duration": 0.015069,
     "end_time": "2024-05-15T16:00:43.809718",
     "exception": false,
     "start_time": "2024-05-15T16:00:43.794649",
     "status": "completed"
    },
    "tags": []
   },
   "source": [
    "# Split data into features and target"
   ]
  },
  {
   "cell_type": "code",
   "execution_count": 10,
   "id": "b4f58246",
   "metadata": {
    "execution": {
     "iopub.execute_input": "2024-05-15T16:00:43.843883Z",
     "iopub.status.busy": "2024-05-15T16:00:43.843467Z",
     "iopub.status.idle": "2024-05-15T16:00:43.871632Z",
     "shell.execute_reply": "2024-05-15T16:00:43.870606Z"
    },
    "papermill": {
     "duration": 0.048517,
     "end_time": "2024-05-15T16:00:43.874274",
     "exception": false,
     "start_time": "2024-05-15T16:00:43.825757",
     "status": "completed"
    },
    "tags": []
   },
   "outputs": [
    {
     "data": {
      "text/html": [
       "<div>\n",
       "<style scoped>\n",
       "    .dataframe tbody tr th:only-of-type {\n",
       "        vertical-align: middle;\n",
       "    }\n",
       "\n",
       "    .dataframe tbody tr th {\n",
       "        vertical-align: top;\n",
       "    }\n",
       "\n",
       "    .dataframe thead th {\n",
       "        text-align: right;\n",
       "    }\n",
       "</style>\n",
       "<table border=\"1\" class=\"dataframe\">\n",
       "  <thead>\n",
       "    <tr style=\"text-align: right;\">\n",
       "      <th></th>\n",
       "      <th>longitude</th>\n",
       "      <th>latitude</th>\n",
       "      <th>housing_median_age</th>\n",
       "      <th>total_rooms</th>\n",
       "      <th>total_bedrooms</th>\n",
       "      <th>population</th>\n",
       "      <th>households</th>\n",
       "      <th>median_income</th>\n",
       "      <th>ocean_proximity</th>\n",
       "    </tr>\n",
       "  </thead>\n",
       "  <tbody>\n",
       "    <tr>\n",
       "      <th>0</th>\n",
       "      <td>-122.23</td>\n",
       "      <td>37.88</td>\n",
       "      <td>41.0</td>\n",
       "      <td>880.0</td>\n",
       "      <td>129.0</td>\n",
       "      <td>322.0</td>\n",
       "      <td>126.0</td>\n",
       "      <td>8.3252</td>\n",
       "      <td>NEAR BAY</td>\n",
       "    </tr>\n",
       "    <tr>\n",
       "      <th>1</th>\n",
       "      <td>-122.22</td>\n",
       "      <td>37.86</td>\n",
       "      <td>21.0</td>\n",
       "      <td>7099.0</td>\n",
       "      <td>1106.0</td>\n",
       "      <td>2401.0</td>\n",
       "      <td>1138.0</td>\n",
       "      <td>8.3014</td>\n",
       "      <td>NEAR BAY</td>\n",
       "    </tr>\n",
       "    <tr>\n",
       "      <th>2</th>\n",
       "      <td>-122.24</td>\n",
       "      <td>37.85</td>\n",
       "      <td>52.0</td>\n",
       "      <td>1467.0</td>\n",
       "      <td>190.0</td>\n",
       "      <td>496.0</td>\n",
       "      <td>177.0</td>\n",
       "      <td>7.2574</td>\n",
       "      <td>NEAR BAY</td>\n",
       "    </tr>\n",
       "    <tr>\n",
       "      <th>3</th>\n",
       "      <td>-122.25</td>\n",
       "      <td>37.85</td>\n",
       "      <td>52.0</td>\n",
       "      <td>1274.0</td>\n",
       "      <td>235.0</td>\n",
       "      <td>558.0</td>\n",
       "      <td>219.0</td>\n",
       "      <td>5.6431</td>\n",
       "      <td>NEAR BAY</td>\n",
       "    </tr>\n",
       "    <tr>\n",
       "      <th>4</th>\n",
       "      <td>-122.25</td>\n",
       "      <td>37.85</td>\n",
       "      <td>52.0</td>\n",
       "      <td>1627.0</td>\n",
       "      <td>280.0</td>\n",
       "      <td>565.0</td>\n",
       "      <td>259.0</td>\n",
       "      <td>3.8462</td>\n",
       "      <td>NEAR BAY</td>\n",
       "    </tr>\n",
       "    <tr>\n",
       "      <th>...</th>\n",
       "      <td>...</td>\n",
       "      <td>...</td>\n",
       "      <td>...</td>\n",
       "      <td>...</td>\n",
       "      <td>...</td>\n",
       "      <td>...</td>\n",
       "      <td>...</td>\n",
       "      <td>...</td>\n",
       "      <td>...</td>\n",
       "    </tr>\n",
       "    <tr>\n",
       "      <th>20635</th>\n",
       "      <td>-121.09</td>\n",
       "      <td>39.48</td>\n",
       "      <td>25.0</td>\n",
       "      <td>1665.0</td>\n",
       "      <td>374.0</td>\n",
       "      <td>845.0</td>\n",
       "      <td>330.0</td>\n",
       "      <td>1.5603</td>\n",
       "      <td>INLAND</td>\n",
       "    </tr>\n",
       "    <tr>\n",
       "      <th>20636</th>\n",
       "      <td>-121.21</td>\n",
       "      <td>39.49</td>\n",
       "      <td>18.0</td>\n",
       "      <td>697.0</td>\n",
       "      <td>150.0</td>\n",
       "      <td>356.0</td>\n",
       "      <td>114.0</td>\n",
       "      <td>2.5568</td>\n",
       "      <td>INLAND</td>\n",
       "    </tr>\n",
       "    <tr>\n",
       "      <th>20637</th>\n",
       "      <td>-121.22</td>\n",
       "      <td>39.43</td>\n",
       "      <td>17.0</td>\n",
       "      <td>2254.0</td>\n",
       "      <td>485.0</td>\n",
       "      <td>1007.0</td>\n",
       "      <td>433.0</td>\n",
       "      <td>1.7000</td>\n",
       "      <td>INLAND</td>\n",
       "    </tr>\n",
       "    <tr>\n",
       "      <th>20638</th>\n",
       "      <td>-121.32</td>\n",
       "      <td>39.43</td>\n",
       "      <td>18.0</td>\n",
       "      <td>1860.0</td>\n",
       "      <td>409.0</td>\n",
       "      <td>741.0</td>\n",
       "      <td>349.0</td>\n",
       "      <td>1.8672</td>\n",
       "      <td>INLAND</td>\n",
       "    </tr>\n",
       "    <tr>\n",
       "      <th>20639</th>\n",
       "      <td>-121.24</td>\n",
       "      <td>39.37</td>\n",
       "      <td>16.0</td>\n",
       "      <td>2785.0</td>\n",
       "      <td>616.0</td>\n",
       "      <td>1387.0</td>\n",
       "      <td>530.0</td>\n",
       "      <td>2.3886</td>\n",
       "      <td>INLAND</td>\n",
       "    </tr>\n",
       "  </tbody>\n",
       "</table>\n",
       "<p>20640 rows × 9 columns</p>\n",
       "</div>"
      ],
      "text/plain": [
       "       longitude  latitude  housing_median_age  total_rooms  total_bedrooms  \\\n",
       "0        -122.23     37.88                41.0        880.0           129.0   \n",
       "1        -122.22     37.86                21.0       7099.0          1106.0   \n",
       "2        -122.24     37.85                52.0       1467.0           190.0   \n",
       "3        -122.25     37.85                52.0       1274.0           235.0   \n",
       "4        -122.25     37.85                52.0       1627.0           280.0   \n",
       "...          ...       ...                 ...          ...             ...   \n",
       "20635    -121.09     39.48                25.0       1665.0           374.0   \n",
       "20636    -121.21     39.49                18.0        697.0           150.0   \n",
       "20637    -121.22     39.43                17.0       2254.0           485.0   \n",
       "20638    -121.32     39.43                18.0       1860.0           409.0   \n",
       "20639    -121.24     39.37                16.0       2785.0           616.0   \n",
       "\n",
       "       population  households  median_income ocean_proximity  \n",
       "0           322.0       126.0         8.3252        NEAR BAY  \n",
       "1          2401.0      1138.0         8.3014        NEAR BAY  \n",
       "2           496.0       177.0         7.2574        NEAR BAY  \n",
       "3           558.0       219.0         5.6431        NEAR BAY  \n",
       "4           565.0       259.0         3.8462        NEAR BAY  \n",
       "...           ...         ...            ...             ...  \n",
       "20635       845.0       330.0         1.5603          INLAND  \n",
       "20636       356.0       114.0         2.5568          INLAND  \n",
       "20637      1007.0       433.0         1.7000          INLAND  \n",
       "20638       741.0       349.0         1.8672          INLAND  \n",
       "20639      1387.0       530.0         2.3886          INLAND  \n",
       "\n",
       "[20640 rows x 9 columns]"
      ]
     },
     "execution_count": 10,
     "metadata": {},
     "output_type": "execute_result"
    }
   ],
   "source": [
    "X = ds_houses.drop(['median_house_value'], inplace=False, axis=1)\n",
    "X"
   ]
  },
  {
   "cell_type": "code",
   "execution_count": 11,
   "id": "01e0e2f2",
   "metadata": {
    "execution": {
     "iopub.execute_input": "2024-05-15T16:00:43.907961Z",
     "iopub.status.busy": "2024-05-15T16:00:43.907565Z",
     "iopub.status.idle": "2024-05-15T16:00:43.917143Z",
     "shell.execute_reply": "2024-05-15T16:00:43.915999Z"
    },
    "papermill": {
     "duration": 0.029609,
     "end_time": "2024-05-15T16:00:43.919932",
     "exception": false,
     "start_time": "2024-05-15T16:00:43.890323",
     "status": "completed"
    },
    "tags": []
   },
   "outputs": [
    {
     "data": {
      "text/plain": [
       "0        452600.0\n",
       "1        358500.0\n",
       "2        352100.0\n",
       "3        341300.0\n",
       "4        342200.0\n",
       "           ...   \n",
       "20635     78100.0\n",
       "20636     77100.0\n",
       "20637     92300.0\n",
       "20638     84700.0\n",
       "20639     89400.0\n",
       "Name: median_house_value, Length: 20640, dtype: float64"
      ]
     },
     "execution_count": 11,
     "metadata": {},
     "output_type": "execute_result"
    }
   ],
   "source": [
    "y = ds_houses['median_house_value']\n",
    "y"
   ]
  },
  {
   "cell_type": "code",
   "execution_count": 12,
   "id": "6ce69249",
   "metadata": {
    "execution": {
     "iopub.execute_input": "2024-05-15T16:00:43.954577Z",
     "iopub.status.busy": "2024-05-15T16:00:43.954173Z",
     "iopub.status.idle": "2024-05-15T16:00:43.973952Z",
     "shell.execute_reply": "2024-05-15T16:00:43.972907Z"
    },
    "papermill": {
     "duration": 0.040037,
     "end_time": "2024-05-15T16:00:43.976510",
     "exception": false,
     "start_time": "2024-05-15T16:00:43.936473",
     "status": "completed"
    },
    "tags": []
   },
   "outputs": [],
   "source": [
    "X1 = X.iloc[:,:].values\n",
    "\n",
    "y1 = y.iloc[:].values"
   ]
  },
  {
   "cell_type": "code",
   "execution_count": 13,
   "id": "13a44f12",
   "metadata": {
    "execution": {
     "iopub.execute_input": "2024-05-15T16:00:44.010968Z",
     "iopub.status.busy": "2024-05-15T16:00:44.010550Z",
     "iopub.status.idle": "2024-05-15T16:00:44.017135Z",
     "shell.execute_reply": "2024-05-15T16:00:44.015860Z"
    },
    "papermill": {
     "duration": 0.027823,
     "end_time": "2024-05-15T16:00:44.020760",
     "exception": false,
     "start_time": "2024-05-15T16:00:43.992937",
     "status": "completed"
    },
    "tags": []
   },
   "outputs": [
    {
     "name": "stdout",
     "output_type": "stream",
     "text": [
      "[[-122.23 37.88 41.0 ... 126.0 8.3252 'NEAR BAY']\n",
      " [-122.22 37.86 21.0 ... 1138.0 8.3014 'NEAR BAY']\n",
      " [-122.24 37.85 52.0 ... 177.0 7.2574 'NEAR BAY']\n",
      " ...\n",
      " [-121.22 39.43 17.0 ... 433.0 1.7 'INLAND']\n",
      " [-121.32 39.43 18.0 ... 349.0 1.8672 'INLAND']\n",
      " [-121.24 39.37 16.0 ... 530.0 2.3886 'INLAND']]\n",
      "============================================\n",
      "[452600. 358500. 352100. ...  92300.  84700.  89400.]\n"
     ]
    }
   ],
   "source": [
    "print(X1)\n",
    "print('============================================')\n",
    "print(y1)"
   ]
  },
  {
   "cell_type": "code",
   "execution_count": 14,
   "id": "4942bdd6",
   "metadata": {
    "execution": {
     "iopub.execute_input": "2024-05-15T16:00:44.056177Z",
     "iopub.status.busy": "2024-05-15T16:00:44.055748Z",
     "iopub.status.idle": "2024-05-15T16:00:44.073790Z",
     "shell.execute_reply": "2024-05-15T16:00:44.072673Z"
    },
    "papermill": {
     "duration": 0.039006,
     "end_time": "2024-05-15T16:00:44.076543",
     "exception": false,
     "start_time": "2024-05-15T16:00:44.037537",
     "status": "completed"
    },
    "tags": []
   },
   "outputs": [
    {
     "data": {
      "text/plain": [
       "207"
      ]
     },
     "execution_count": 14,
     "metadata": {},
     "output_type": "execute_result"
    }
   ],
   "source": [
    "pd.isnull(X1).sum()"
   ]
  },
  {
   "cell_type": "markdown",
   "id": "6922fb21",
   "metadata": {
    "papermill": {
     "duration": 0.016661,
     "end_time": "2024-05-15T16:00:44.109670",
     "exception": false,
     "start_time": "2024-05-15T16:00:44.093009",
     "status": "completed"
    },
    "tags": []
   },
   "source": [
    "# Deal with null values"
   ]
  },
  {
   "cell_type": "code",
   "execution_count": 15,
   "id": "2b6f8c3a",
   "metadata": {
    "execution": {
     "iopub.execute_input": "2024-05-15T16:00:44.144254Z",
     "iopub.status.busy": "2024-05-15T16:00:44.143846Z",
     "iopub.status.idle": "2024-05-15T16:00:44.720368Z",
     "shell.execute_reply": "2024-05-15T16:00:44.719095Z"
    },
    "papermill": {
     "duration": 0.597579,
     "end_time": "2024-05-15T16:00:44.723769",
     "exception": false,
     "start_time": "2024-05-15T16:00:44.126190",
     "status": "completed"
    },
    "tags": []
   },
   "outputs": [],
   "source": [
    "from sklearn.impute import SimpleImputer\n",
    "imputer = SimpleImputer(missing_values= np.nan, strategy='mean')\n",
    "imputer = imputer.fit(X1[:, 4:5])\n",
    "X1 [:, 4:5] = imputer.transform(X1[:, 4:5])"
   ]
  },
  {
   "cell_type": "code",
   "execution_count": 16,
   "id": "13bfc3f0",
   "metadata": {
    "execution": {
     "iopub.execute_input": "2024-05-15T16:00:44.760868Z",
     "iopub.status.busy": "2024-05-15T16:00:44.760443Z",
     "iopub.status.idle": "2024-05-15T16:00:44.779559Z",
     "shell.execute_reply": "2024-05-15T16:00:44.778377Z"
    },
    "papermill": {
     "duration": 0.041895,
     "end_time": "2024-05-15T16:00:44.782341",
     "exception": false,
     "start_time": "2024-05-15T16:00:44.740446",
     "status": "completed"
    },
    "tags": []
   },
   "outputs": [
    {
     "data": {
      "text/plain": [
       "0"
      ]
     },
     "execution_count": 16,
     "metadata": {},
     "output_type": "execute_result"
    }
   ],
   "source": [
    "pd.isnull(X1).sum()"
   ]
  },
  {
   "cell_type": "markdown",
   "id": "e9acafd4",
   "metadata": {
    "papermill": {
     "duration": 0.016629,
     "end_time": "2024-05-15T16:00:44.816150",
     "exception": false,
     "start_time": "2024-05-15T16:00:44.799521",
     "status": "completed"
    },
    "tags": []
   },
   "source": [
    "# Convert the category data to numerical data"
   ]
  },
  {
   "cell_type": "code",
   "execution_count": 17,
   "id": "6b495bf0",
   "metadata": {
    "execution": {
     "iopub.execute_input": "2024-05-15T16:00:44.851320Z",
     "iopub.status.busy": "2024-05-15T16:00:44.850832Z",
     "iopub.status.idle": "2024-05-15T16:00:44.895076Z",
     "shell.execute_reply": "2024-05-15T16:00:44.893771Z"
    },
    "papermill": {
     "duration": 0.065154,
     "end_time": "2024-05-15T16:00:44.897935",
     "exception": false,
     "start_time": "2024-05-15T16:00:44.832781",
     "status": "completed"
    },
    "tags": []
   },
   "outputs": [],
   "source": [
    "from sklearn.compose import ColumnTransformer\n",
    "from sklearn.preprocessing import OneHotEncoder\n",
    "ct = ColumnTransformer(transformers=[('encoder', OneHotEncoder(), [8])], remainder='passthrough')\n",
    "X2 = np.array(ct.fit_transform(X1))"
   ]
  },
  {
   "cell_type": "code",
   "execution_count": 18,
   "id": "4b95ed58",
   "metadata": {
    "execution": {
     "iopub.execute_input": "2024-05-15T16:00:44.935210Z",
     "iopub.status.busy": "2024-05-15T16:00:44.934095Z",
     "iopub.status.idle": "2024-05-15T16:00:44.940851Z",
     "shell.execute_reply": "2024-05-15T16:00:44.939468Z"
    },
    "papermill": {
     "duration": 0.028825,
     "end_time": "2024-05-15T16:00:44.943947",
     "exception": false,
     "start_time": "2024-05-15T16:00:44.915122",
     "status": "completed"
    },
    "tags": []
   },
   "outputs": [
    {
     "name": "stdout",
     "output_type": "stream",
     "text": [
      "[[0.0 0.0 0.0 ... 322.0 126.0 8.3252]\n",
      " [0.0 0.0 0.0 ... 2401.0 1138.0 8.3014]\n",
      " [0.0 0.0 0.0 ... 496.0 177.0 7.2574]\n",
      " ...\n",
      " [0.0 1.0 0.0 ... 1007.0 433.0 1.7]\n",
      " [0.0 1.0 0.0 ... 741.0 349.0 1.8672]\n",
      " [0.0 1.0 0.0 ... 1387.0 530.0 2.3886]]\n"
     ]
    }
   ],
   "source": [
    "print(X2)"
   ]
  },
  {
   "cell_type": "markdown",
   "id": "eeaa78f5",
   "metadata": {
    "papermill": {
     "duration": 0.016547,
     "end_time": "2024-05-15T16:00:45.039522",
     "exception": false,
     "start_time": "2024-05-15T16:00:45.022975",
     "status": "completed"
    },
    "tags": []
   },
   "source": [
    "# Scalling the numerical data"
   ]
  },
  {
   "cell_type": "code",
   "execution_count": 19,
   "id": "17324265",
   "metadata": {
    "execution": {
     "iopub.execute_input": "2024-05-15T16:00:45.074734Z",
     "iopub.status.busy": "2024-05-15T16:00:45.074343Z",
     "iopub.status.idle": "2024-05-15T16:00:45.117227Z",
     "shell.execute_reply": "2024-05-15T16:00:45.115996Z"
    },
    "papermill": {
     "duration": 0.063991,
     "end_time": "2024-05-15T16:00:45.120225",
     "exception": false,
     "start_time": "2024-05-15T16:00:45.056234",
     "status": "completed"
    },
    "tags": []
   },
   "outputs": [],
   "source": [
    "from sklearn.preprocessing import StandardScaler\n",
    "sc = StandardScaler()\n",
    "X2[:, 5:] = sc.fit_transform(X2[:, 5:])"
   ]
  },
  {
   "cell_type": "code",
   "execution_count": 20,
   "id": "76be9560",
   "metadata": {
    "execution": {
     "iopub.execute_input": "2024-05-15T16:00:45.156430Z",
     "iopub.status.busy": "2024-05-15T16:00:45.155996Z",
     "iopub.status.idle": "2024-05-15T16:00:45.163110Z",
     "shell.execute_reply": "2024-05-15T16:00:45.161554Z"
    },
    "papermill": {
     "duration": 0.028922,
     "end_time": "2024-05-15T16:00:45.166046",
     "exception": false,
     "start_time": "2024-05-15T16:00:45.137124",
     "status": "completed"
    },
    "tags": []
   },
   "outputs": [
    {
     "name": "stdout",
     "output_type": "stream",
     "text": [
      "[[0.0 0.0 0.0 ... -0.9744285971768438 -0.9770328537634606\n",
      "  2.344765758301686]\n",
      " [0.0 0.0 0.0 ... 0.8614388682720715 1.669961027564066 2.3322379635373007]\n",
      " [0.0 0.0 0.0 ... -0.8207773518723169 -0.8436369170562433\n",
      "  1.7826994032844703]\n",
      " ...\n",
      " [0.0 1.0 0.0 ... -0.3695372004320112 -0.17404162691805483\n",
      "  -1.1425933119924276]\n",
      " [0.0 1.0 0.0 ... -0.6044293340584718 -0.3937525814946479\n",
      "  -1.0545829218829705]\n",
      " [0.0 1.0 0.0 ... -0.03397700953706758 0.07967221348586817\n",
      "  -0.7801294685153212]]\n"
     ]
    }
   ],
   "source": [
    "print(X2)"
   ]
  },
  {
   "cell_type": "code",
   "execution_count": 21,
   "id": "3cd482f6",
   "metadata": {
    "execution": {
     "iopub.execute_input": "2024-05-15T16:00:45.203496Z",
     "iopub.status.busy": "2024-05-15T16:00:45.202277Z",
     "iopub.status.idle": "2024-05-15T16:00:45.207834Z",
     "shell.execute_reply": "2024-05-15T16:00:45.206695Z"
    },
    "papermill": {
     "duration": 0.026366,
     "end_time": "2024-05-15T16:00:45.210415",
     "exception": false,
     "start_time": "2024-05-15T16:00:45.184049",
     "status": "completed"
    },
    "tags": []
   },
   "outputs": [],
   "source": [
    "y2 = y1.reshape(-1,1)"
   ]
  },
  {
   "cell_type": "code",
   "execution_count": 22,
   "id": "ddd178db",
   "metadata": {
    "execution": {
     "iopub.execute_input": "2024-05-15T16:00:45.248956Z",
     "iopub.status.busy": "2024-05-15T16:00:45.248084Z",
     "iopub.status.idle": "2024-05-15T16:00:45.254528Z",
     "shell.execute_reply": "2024-05-15T16:00:45.253200Z"
    },
    "papermill": {
     "duration": 0.028121,
     "end_time": "2024-05-15T16:00:45.257879",
     "exception": false,
     "start_time": "2024-05-15T16:00:45.229758",
     "status": "completed"
    },
    "tags": []
   },
   "outputs": [
    {
     "name": "stdout",
     "output_type": "stream",
     "text": [
      "[[452600.]\n",
      " [358500.]\n",
      " [352100.]\n",
      " ...\n",
      " [ 92300.]\n",
      " [ 84700.]\n",
      " [ 89400.]]\n"
     ]
    }
   ],
   "source": [
    "print(y2)"
   ]
  },
  {
   "cell_type": "code",
   "execution_count": 23,
   "id": "6ae4a8dd",
   "metadata": {
    "execution": {
     "iopub.execute_input": "2024-05-15T16:00:45.294203Z",
     "iopub.status.busy": "2024-05-15T16:00:45.293474Z",
     "iopub.status.idle": "2024-05-15T16:00:45.300693Z",
     "shell.execute_reply": "2024-05-15T16:00:45.299638Z"
    },
    "papermill": {
     "duration": 0.028131,
     "end_time": "2024-05-15T16:00:45.303115",
     "exception": false,
     "start_time": "2024-05-15T16:00:45.274984",
     "status": "completed"
    },
    "tags": []
   },
   "outputs": [],
   "source": [
    "from sklearn.preprocessing import StandardScaler\n",
    "sc = StandardScaler()\n",
    "y3 = sc.fit_transform(y2)"
   ]
  },
  {
   "cell_type": "code",
   "execution_count": 24,
   "id": "dffe1620",
   "metadata": {
    "execution": {
     "iopub.execute_input": "2024-05-15T16:00:45.339256Z",
     "iopub.status.busy": "2024-05-15T16:00:45.338853Z",
     "iopub.status.idle": "2024-05-15T16:00:45.346165Z",
     "shell.execute_reply": "2024-05-15T16:00:45.344908Z"
    },
    "papermill": {
     "duration": 0.029113,
     "end_time": "2024-05-15T16:00:45.349307",
     "exception": false,
     "start_time": "2024-05-15T16:00:45.320194",
     "status": "completed"
    },
    "tags": []
   },
   "outputs": [
    {
     "name": "stdout",
     "output_type": "stream",
     "text": [
      "[[ 2.12963148]\n",
      " [ 1.31415614]\n",
      " [ 1.25869341]\n",
      " ...\n",
      " [-0.99274649]\n",
      " [-1.05860847]\n",
      " [-1.01787803]]\n"
     ]
    }
   ],
   "source": [
    "print(y3)"
   ]
  },
  {
   "cell_type": "markdown",
   "id": "aacd0f19",
   "metadata": {
    "papermill": {
     "duration": 0.017048,
     "end_time": "2024-05-15T16:00:45.383683",
     "exception": false,
     "start_time": "2024-05-15T16:00:45.366635",
     "status": "completed"
    },
    "tags": []
   },
   "source": [
    "# Split data into train and test data"
   ]
  },
  {
   "cell_type": "code",
   "execution_count": 25,
   "id": "9629d72e",
   "metadata": {
    "execution": {
     "iopub.execute_input": "2024-05-15T16:00:45.419781Z",
     "iopub.status.busy": "2024-05-15T16:00:45.419361Z",
     "iopub.status.idle": "2024-05-15T16:00:45.434604Z",
     "shell.execute_reply": "2024-05-15T16:00:45.433074Z"
    },
    "papermill": {
     "duration": 0.036786,
     "end_time": "2024-05-15T16:00:45.437623",
     "exception": false,
     "start_time": "2024-05-15T16:00:45.400837",
     "status": "completed"
    },
    "tags": []
   },
   "outputs": [],
   "source": [
    "from sklearn.model_selection import train_test_split\n",
    "X_train, X_test, y_train, y_test = train_test_split(X2, y3, test_size = 0.3, random_state = 42)"
   ]
  },
  {
   "cell_type": "code",
   "execution_count": 26,
   "id": "472759ae",
   "metadata": {
    "execution": {
     "iopub.execute_input": "2024-05-15T16:00:45.474120Z",
     "iopub.status.busy": "2024-05-15T16:00:45.473690Z",
     "iopub.status.idle": "2024-05-15T16:00:45.482356Z",
     "shell.execute_reply": "2024-05-15T16:00:45.481220Z"
    },
    "papermill": {
     "duration": 0.03004,
     "end_time": "2024-05-15T16:00:45.484929",
     "exception": false,
     "start_time": "2024-05-15T16:00:45.454889",
     "status": "completed"
    },
    "tags": []
   },
   "outputs": [
    {
     "name": "stdout",
     "output_type": "stream",
     "text": [
      "X trian = [[1.0 0.0 0.0 ... -0.18321298917192408 -0.2394317919706123\n",
      "  0.13713671452738266]\n",
      " [0.0 0.0 0.0 ... -0.3766016255034837 -0.009258410985609998\n",
      "  -0.5303631401245469]\n",
      " [0.0 0.0 0.0 ... -0.6132598653978124 -0.5611514040291951\n",
      "  0.17472009882053632]\n",
      " ...\n",
      " [1.0 0.0 0.0 ... 0.29186959688460135 0.07182539367956127\n",
      "  -0.4928323936245212]\n",
      " [1.0 0.0 0.0 ... 0.3104137126972167 0.15552480494683482\n",
      "  0.9730248693947153]\n",
      " [0.0 0.0 0.0 ... 1.053944451469697 1.941984114182705 -0.6817494331597138]]\n",
      "=============================================================\n",
      "X test = [[0.0 1.0 0.0 ... -0.029561743867397273 -0.36759651547362493\n",
      "  -1.1524892171004288]\n",
      " [0.0 1.0 0.0 ... 0.12320644830319548 0.2209149699993923\n",
      "  -0.7050153377221421]\n",
      " [0.0 0.0 0.0 ... -0.10197210084999037 1.2122298721961635\n",
      "  -0.205587956526849]\n",
      " ...\n",
      " [1.0 0.0 0.0 ... 3.1688567072417757 4.228024284420115\n",
      "  -0.18879650051912372]\n",
      " [0.0 1.0 0.0 ... 3.982148643595047 3.069310559688796 -0.116156346002945]\n",
      " [1.0 0.0 0.0 ... 2.375874992968988 2.810365506080668\n",
      "  -0.43093034890638626]]\n",
      "=============================================================\n",
      "y train = [[-0.11314237]\n",
      " [-0.32199418]\n",
      " [ 0.45881696]\n",
      " ...\n",
      " [ 0.13210686]\n",
      " [ 0.66420236]\n",
      " [ 1.02384345]]\n",
      "=============================================================\n",
      "y test = [[-1.37925233]\n",
      " [-1.39571783]\n",
      " [ 2.54041094]\n",
      " ...\n",
      " [ 0.10004247]\n",
      " [-0.75789652]\n",
      " [ 0.02551444]]\n"
     ]
    }
   ],
   "source": [
    "print('X trian =', X_train)\n",
    "print('=============================================================')\n",
    "print('X test =', X_test)\n",
    "print('=============================================================')\n",
    "print('y train =', y_train)\n",
    "print('=============================================================')\n",
    "print('y test =', y_test)"
   ]
  },
  {
   "cell_type": "markdown",
   "id": "6f6b5298",
   "metadata": {
    "papermill": {
     "duration": 0.017018,
     "end_time": "2024-05-15T16:00:45.519218",
     "exception": false,
     "start_time": "2024-05-15T16:00:45.502200",
     "status": "completed"
    },
    "tags": []
   },
   "source": [
    "# Try the linear regression "
   ]
  },
  {
   "cell_type": "markdown",
   "id": "53919dd6",
   "metadata": {
    "papermill": {
     "duration": 0.01739,
     "end_time": "2024-05-15T16:00:45.553887",
     "exception": false,
     "start_time": "2024-05-15T16:00:45.536497",
     "status": "completed"
    },
    "tags": []
   },
   "source": [
    "**Training the model**"
   ]
  },
  {
   "cell_type": "code",
   "execution_count": 27,
   "id": "e980cc56",
   "metadata": {
    "execution": {
     "iopub.execute_input": "2024-05-15T16:00:45.590270Z",
     "iopub.status.busy": "2024-05-15T16:00:45.589809Z",
     "iopub.status.idle": "2024-05-15T16:00:45.657750Z",
     "shell.execute_reply": "2024-05-15T16:00:45.656104Z"
    },
    "papermill": {
     "duration": 0.091119,
     "end_time": "2024-05-15T16:00:45.662223",
     "exception": false,
     "start_time": "2024-05-15T16:00:45.571104",
     "status": "completed"
    },
    "tags": []
   },
   "outputs": [
    {
     "data": {
      "text/html": [
       "<style>#sk-container-id-1 {color: black;background-color: white;}#sk-container-id-1 pre{padding: 0;}#sk-container-id-1 div.sk-toggleable {background-color: white;}#sk-container-id-1 label.sk-toggleable__label {cursor: pointer;display: block;width: 100%;margin-bottom: 0;padding: 0.3em;box-sizing: border-box;text-align: center;}#sk-container-id-1 label.sk-toggleable__label-arrow:before {content: \"▸\";float: left;margin-right: 0.25em;color: #696969;}#sk-container-id-1 label.sk-toggleable__label-arrow:hover:before {color: black;}#sk-container-id-1 div.sk-estimator:hover label.sk-toggleable__label-arrow:before {color: black;}#sk-container-id-1 div.sk-toggleable__content {max-height: 0;max-width: 0;overflow: hidden;text-align: left;background-color: #f0f8ff;}#sk-container-id-1 div.sk-toggleable__content pre {margin: 0.2em;color: black;border-radius: 0.25em;background-color: #f0f8ff;}#sk-container-id-1 input.sk-toggleable__control:checked~div.sk-toggleable__content {max-height: 200px;max-width: 100%;overflow: auto;}#sk-container-id-1 input.sk-toggleable__control:checked~label.sk-toggleable__label-arrow:before {content: \"▾\";}#sk-container-id-1 div.sk-estimator input.sk-toggleable__control:checked~label.sk-toggleable__label {background-color: #d4ebff;}#sk-container-id-1 div.sk-label input.sk-toggleable__control:checked~label.sk-toggleable__label {background-color: #d4ebff;}#sk-container-id-1 input.sk-hidden--visually {border: 0;clip: rect(1px 1px 1px 1px);clip: rect(1px, 1px, 1px, 1px);height: 1px;margin: -1px;overflow: hidden;padding: 0;position: absolute;width: 1px;}#sk-container-id-1 div.sk-estimator {font-family: monospace;background-color: #f0f8ff;border: 1px dotted black;border-radius: 0.25em;box-sizing: border-box;margin-bottom: 0.5em;}#sk-container-id-1 div.sk-estimator:hover {background-color: #d4ebff;}#sk-container-id-1 div.sk-parallel-item::after {content: \"\";width: 100%;border-bottom: 1px solid gray;flex-grow: 1;}#sk-container-id-1 div.sk-label:hover label.sk-toggleable__label {background-color: #d4ebff;}#sk-container-id-1 div.sk-serial::before {content: \"\";position: absolute;border-left: 1px solid gray;box-sizing: border-box;top: 0;bottom: 0;left: 50%;z-index: 0;}#sk-container-id-1 div.sk-serial {display: flex;flex-direction: column;align-items: center;background-color: white;padding-right: 0.2em;padding-left: 0.2em;position: relative;}#sk-container-id-1 div.sk-item {position: relative;z-index: 1;}#sk-container-id-1 div.sk-parallel {display: flex;align-items: stretch;justify-content: center;background-color: white;position: relative;}#sk-container-id-1 div.sk-item::before, #sk-container-id-1 div.sk-parallel-item::before {content: \"\";position: absolute;border-left: 1px solid gray;box-sizing: border-box;top: 0;bottom: 0;left: 50%;z-index: -1;}#sk-container-id-1 div.sk-parallel-item {display: flex;flex-direction: column;z-index: 1;position: relative;background-color: white;}#sk-container-id-1 div.sk-parallel-item:first-child::after {align-self: flex-end;width: 50%;}#sk-container-id-1 div.sk-parallel-item:last-child::after {align-self: flex-start;width: 50%;}#sk-container-id-1 div.sk-parallel-item:only-child::after {width: 0;}#sk-container-id-1 div.sk-dashed-wrapped {border: 1px dashed gray;margin: 0 0.4em 0.5em 0.4em;box-sizing: border-box;padding-bottom: 0.4em;background-color: white;}#sk-container-id-1 div.sk-label label {font-family: monospace;font-weight: bold;display: inline-block;line-height: 1.2em;}#sk-container-id-1 div.sk-label-container {text-align: center;}#sk-container-id-1 div.sk-container {/* jupyter's `normalize.less` sets `[hidden] { display: none; }` but bootstrap.min.css set `[hidden] { display: none !important; }` so we also need the `!important` here to be able to override the default hidden behavior on the sphinx rendered scikit-learn.org. See: https://github.com/scikit-learn/scikit-learn/issues/21755 */display: inline-block !important;position: relative;}#sk-container-id-1 div.sk-text-repr-fallback {display: none;}</style><div id=\"sk-container-id-1\" class=\"sk-top-container\"><div class=\"sk-text-repr-fallback\"><pre>LinearRegression()</pre><b>In a Jupyter environment, please rerun this cell to show the HTML representation or trust the notebook. <br />On GitHub, the HTML representation is unable to render, please try loading this page with nbviewer.org.</b></div><div class=\"sk-container\" hidden><div class=\"sk-item\"><div class=\"sk-estimator sk-toggleable\"><input class=\"sk-toggleable__control sk-hidden--visually\" id=\"sk-estimator-id-1\" type=\"checkbox\" checked><label for=\"sk-estimator-id-1\" class=\"sk-toggleable__label sk-toggleable__label-arrow\">LinearRegression</label><div class=\"sk-toggleable__content\"><pre>LinearRegression()</pre></div></div></div></div></div>"
      ],
      "text/plain": [
       "LinearRegression()"
      ]
     },
     "execution_count": 27,
     "metadata": {},
     "output_type": "execute_result"
    }
   ],
   "source": [
    "from sklearn.linear_model import LinearRegression\n",
    "linregressor = LinearRegression()\n",
    "linregressor.fit(X_train, y_train)"
   ]
  },
  {
   "cell_type": "markdown",
   "id": "b7a98f8e",
   "metadata": {
    "papermill": {
     "duration": 0.018536,
     "end_time": "2024-05-15T16:00:45.712728",
     "exception": false,
     "start_time": "2024-05-15T16:00:45.694192",
     "status": "completed"
    },
    "tags": []
   },
   "source": [
    "**Predicting the results**"
   ]
  },
  {
   "cell_type": "code",
   "execution_count": 28,
   "id": "043f3527",
   "metadata": {
    "execution": {
     "iopub.execute_input": "2024-05-15T16:00:45.751274Z",
     "iopub.status.busy": "2024-05-15T16:00:45.750879Z",
     "iopub.status.idle": "2024-05-15T16:00:45.769828Z",
     "shell.execute_reply": "2024-05-15T16:00:45.767685Z"
    },
    "papermill": {
     "duration": 0.056869,
     "end_time": "2024-05-15T16:00:45.788102",
     "exception": false,
     "start_time": "2024-05-15T16:00:45.731233",
     "status": "completed"
    },
    "tags": []
   },
   "outputs": [
    {
     "name": "stdout",
     "output_type": "stream",
     "text": [
      "[[-1.22973633]\n",
      " [-0.63623047]\n",
      " [ 0.49365234]\n",
      " ...\n",
      " [ 0.67651367]\n",
      " [-0.80200195]\n",
      " [ 0.11254883]]\n"
     ]
    }
   ],
   "source": [
    "y_pred = linregressor.predict(X_test)\n",
    "print(y_pred)"
   ]
  },
  {
   "cell_type": "markdown",
   "id": "1eba3957",
   "metadata": {
    "papermill": {
     "duration": 0.051872,
     "end_time": "2024-05-15T16:00:45.883986",
     "exception": false,
     "start_time": "2024-05-15T16:00:45.832114",
     "status": "completed"
    },
    "tags": []
   },
   "source": [
    "# Test the model score"
   ]
  },
  {
   "cell_type": "code",
   "execution_count": 29,
   "id": "ed203741",
   "metadata": {
    "execution": {
     "iopub.execute_input": "2024-05-15T16:00:45.942469Z",
     "iopub.status.busy": "2024-05-15T16:00:45.941922Z",
     "iopub.status.idle": "2024-05-15T16:00:45.959256Z",
     "shell.execute_reply": "2024-05-15T16:00:45.958038Z"
    },
    "papermill": {
     "duration": 0.049085,
     "end_time": "2024-05-15T16:00:45.965120",
     "exception": false,
     "start_time": "2024-05-15T16:00:45.916035",
     "status": "completed"
    },
    "tags": []
   },
   "outputs": [
    {
     "name": "stdout",
     "output_type": "stream",
     "text": [
      "63.95558873763583\n"
     ]
    }
   ],
   "source": [
    "print(linregressor.score(X_test , y_test)*100)"
   ]
  },
  {
   "cell_type": "code",
   "execution_count": 30,
   "id": "5f250725",
   "metadata": {
    "execution": {
     "iopub.execute_input": "2024-05-15T16:00:46.052191Z",
     "iopub.status.busy": "2024-05-15T16:00:46.050704Z",
     "iopub.status.idle": "2024-05-15T16:00:46.088074Z",
     "shell.execute_reply": "2024-05-15T16:00:46.086509Z"
    },
    "papermill": {
     "duration": 0.086357,
     "end_time": "2024-05-15T16:00:46.092583",
     "exception": false,
     "start_time": "2024-05-15T16:00:46.006226",
     "status": "completed"
    },
    "tags": []
   },
   "outputs": [
    {
     "name": "stdout",
     "output_type": "stream",
     "text": [
      "64.70293520163712\n"
     ]
    }
   ],
   "source": [
    "print(linregressor.score(X_train , y_train)*100)"
   ]
  },
  {
   "cell_type": "markdown",
   "id": "bb4bbf10",
   "metadata": {
    "papermill": {
     "duration": 0.039989,
     "end_time": "2024-05-15T16:00:46.171185",
     "exception": false,
     "start_time": "2024-05-15T16:00:46.131196",
     "status": "completed"
    },
    "tags": []
   },
   "source": [
    "# Try the polynomial regression"
   ]
  },
  {
   "cell_type": "markdown",
   "id": "1bcc6a4e",
   "metadata": {
    "papermill": {
     "duration": 0.017601,
     "end_time": "2024-05-15T16:00:46.224189",
     "exception": false,
     "start_time": "2024-05-15T16:00:46.206588",
     "status": "completed"
    },
    "tags": []
   },
   "source": [
    "**Training the model**"
   ]
  },
  {
   "cell_type": "code",
   "execution_count": 31,
   "id": "daf7494e",
   "metadata": {
    "execution": {
     "iopub.execute_input": "2024-05-15T16:00:46.261273Z",
     "iopub.status.busy": "2024-05-15T16:00:46.260858Z",
     "iopub.status.idle": "2024-05-15T16:00:57.288737Z",
     "shell.execute_reply": "2024-05-15T16:00:57.287186Z"
    },
    "papermill": {
     "duration": 11.050974,
     "end_time": "2024-05-15T16:00:57.292925",
     "exception": false,
     "start_time": "2024-05-15T16:00:46.241951",
     "status": "completed"
    },
    "tags": []
   },
   "outputs": [
    {
     "data": {
      "text/html": [
       "<style>#sk-container-id-2 {color: black;background-color: white;}#sk-container-id-2 pre{padding: 0;}#sk-container-id-2 div.sk-toggleable {background-color: white;}#sk-container-id-2 label.sk-toggleable__label {cursor: pointer;display: block;width: 100%;margin-bottom: 0;padding: 0.3em;box-sizing: border-box;text-align: center;}#sk-container-id-2 label.sk-toggleable__label-arrow:before {content: \"▸\";float: left;margin-right: 0.25em;color: #696969;}#sk-container-id-2 label.sk-toggleable__label-arrow:hover:before {color: black;}#sk-container-id-2 div.sk-estimator:hover label.sk-toggleable__label-arrow:before {color: black;}#sk-container-id-2 div.sk-toggleable__content {max-height: 0;max-width: 0;overflow: hidden;text-align: left;background-color: #f0f8ff;}#sk-container-id-2 div.sk-toggleable__content pre {margin: 0.2em;color: black;border-radius: 0.25em;background-color: #f0f8ff;}#sk-container-id-2 input.sk-toggleable__control:checked~div.sk-toggleable__content {max-height: 200px;max-width: 100%;overflow: auto;}#sk-container-id-2 input.sk-toggleable__control:checked~label.sk-toggleable__label-arrow:before {content: \"▾\";}#sk-container-id-2 div.sk-estimator input.sk-toggleable__control:checked~label.sk-toggleable__label {background-color: #d4ebff;}#sk-container-id-2 div.sk-label input.sk-toggleable__control:checked~label.sk-toggleable__label {background-color: #d4ebff;}#sk-container-id-2 input.sk-hidden--visually {border: 0;clip: rect(1px 1px 1px 1px);clip: rect(1px, 1px, 1px, 1px);height: 1px;margin: -1px;overflow: hidden;padding: 0;position: absolute;width: 1px;}#sk-container-id-2 div.sk-estimator {font-family: monospace;background-color: #f0f8ff;border: 1px dotted black;border-radius: 0.25em;box-sizing: border-box;margin-bottom: 0.5em;}#sk-container-id-2 div.sk-estimator:hover {background-color: #d4ebff;}#sk-container-id-2 div.sk-parallel-item::after {content: \"\";width: 100%;border-bottom: 1px solid gray;flex-grow: 1;}#sk-container-id-2 div.sk-label:hover label.sk-toggleable__label {background-color: #d4ebff;}#sk-container-id-2 div.sk-serial::before {content: \"\";position: absolute;border-left: 1px solid gray;box-sizing: border-box;top: 0;bottom: 0;left: 50%;z-index: 0;}#sk-container-id-2 div.sk-serial {display: flex;flex-direction: column;align-items: center;background-color: white;padding-right: 0.2em;padding-left: 0.2em;position: relative;}#sk-container-id-2 div.sk-item {position: relative;z-index: 1;}#sk-container-id-2 div.sk-parallel {display: flex;align-items: stretch;justify-content: center;background-color: white;position: relative;}#sk-container-id-2 div.sk-item::before, #sk-container-id-2 div.sk-parallel-item::before {content: \"\";position: absolute;border-left: 1px solid gray;box-sizing: border-box;top: 0;bottom: 0;left: 50%;z-index: -1;}#sk-container-id-2 div.sk-parallel-item {display: flex;flex-direction: column;z-index: 1;position: relative;background-color: white;}#sk-container-id-2 div.sk-parallel-item:first-child::after {align-self: flex-end;width: 50%;}#sk-container-id-2 div.sk-parallel-item:last-child::after {align-self: flex-start;width: 50%;}#sk-container-id-2 div.sk-parallel-item:only-child::after {width: 0;}#sk-container-id-2 div.sk-dashed-wrapped {border: 1px dashed gray;margin: 0 0.4em 0.5em 0.4em;box-sizing: border-box;padding-bottom: 0.4em;background-color: white;}#sk-container-id-2 div.sk-label label {font-family: monospace;font-weight: bold;display: inline-block;line-height: 1.2em;}#sk-container-id-2 div.sk-label-container {text-align: center;}#sk-container-id-2 div.sk-container {/* jupyter's `normalize.less` sets `[hidden] { display: none; }` but bootstrap.min.css set `[hidden] { display: none !important; }` so we also need the `!important` here to be able to override the default hidden behavior on the sphinx rendered scikit-learn.org. See: https://github.com/scikit-learn/scikit-learn/issues/21755 */display: inline-block !important;position: relative;}#sk-container-id-2 div.sk-text-repr-fallback {display: none;}</style><div id=\"sk-container-id-2\" class=\"sk-top-container\"><div class=\"sk-text-repr-fallback\"><pre>LinearRegression()</pre><b>In a Jupyter environment, please rerun this cell to show the HTML representation or trust the notebook. <br />On GitHub, the HTML representation is unable to render, please try loading this page with nbviewer.org.</b></div><div class=\"sk-container\" hidden><div class=\"sk-item\"><div class=\"sk-estimator sk-toggleable\"><input class=\"sk-toggleable__control sk-hidden--visually\" id=\"sk-estimator-id-2\" type=\"checkbox\" checked><label for=\"sk-estimator-id-2\" class=\"sk-toggleable__label sk-toggleable__label-arrow\">LinearRegression</label><div class=\"sk-toggleable__content\"><pre>LinearRegression()</pre></div></div></div></div></div>"
      ],
      "text/plain": [
       "LinearRegression()"
      ]
     },
     "execution_count": 31,
     "metadata": {},
     "output_type": "execute_result"
    }
   ],
   "source": [
    "from sklearn.preprocessing import PolynomialFeatures\n",
    "poly_reg = PolynomialFeatures(degree = 4)\n",
    "X_poly = poly_reg.fit_transform(X_train)\n",
    "lin_reg_2 = LinearRegression()\n",
    "lin_reg_2.fit(X_poly, y_train)"
   ]
  },
  {
   "cell_type": "markdown",
   "id": "2ef66e83",
   "metadata": {
    "papermill": {
     "duration": 0.034642,
     "end_time": "2024-05-15T16:00:57.366724",
     "exception": false,
     "start_time": "2024-05-15T16:00:57.332082",
     "status": "completed"
    },
    "tags": []
   },
   "source": [
    "**Predicting the results**"
   ]
  },
  {
   "cell_type": "code",
   "execution_count": 32,
   "id": "57a725e8",
   "metadata": {
    "execution": {
     "iopub.execute_input": "2024-05-15T16:00:57.405216Z",
     "iopub.status.busy": "2024-05-15T16:00:57.404769Z",
     "iopub.status.idle": "2024-05-15T16:00:57.533506Z",
     "shell.execute_reply": "2024-05-15T16:00:57.531611Z"
    },
    "papermill": {
     "duration": 0.155189,
     "end_time": "2024-05-15T16:00:57.539982",
     "exception": false,
     "start_time": "2024-05-15T16:00:57.384793",
     "status": "completed"
    },
    "tags": []
   },
   "outputs": [
    {
     "name": "stdout",
     "output_type": "stream",
     "text": [
      "[[ -1.23562371]\n",
      " [ -0.59758165]\n",
      " [-36.33180787]\n",
      " ...\n",
      " [ -0.08958947]\n",
      " [ -0.83116372]\n",
      " [ -0.47728206]]\n"
     ]
    }
   ],
   "source": [
    "y_predp = lin_reg_2.predict(poly_reg.fit_transform(X_test))\n",
    "print(y_predp)"
   ]
  }
 ],
 "metadata": {
  "kaggle": {
   "accelerator": "none",
   "dataSources": [
    {
     "datasetId": 4712374,
     "sourceId": 8002101,
     "sourceType": "datasetVersion"
    }
   ],
   "dockerImageVersionId": 30698,
   "isGpuEnabled": false,
   "isInternetEnabled": true,
   "language": "python",
   "sourceType": "notebook"
  },
  "kernelspec": {
   "display_name": "Python 3",
   "language": "python",
   "name": "python3"
  },
  "language_info": {
   "codemirror_mode": {
    "name": "ipython",
    "version": 3
   },
   "file_extension": ".py",
   "mimetype": "text/x-python",
   "name": "python",
   "nbconvert_exporter": "python",
   "pygments_lexer": "ipython3",
   "version": "3.10.13"
  },
  "papermill": {
   "default_parameters": {},
   "duration": 21.008702,
   "end_time": "2024-05-15T16:00:58.305012",
   "environment_variables": {},
   "exception": null,
   "input_path": "__notebook__.ipynb",
   "output_path": "__notebook__.ipynb",
   "parameters": {},
   "start_time": "2024-05-15T16:00:37.296310",
   "version": "2.5.0"
  }
 },
 "nbformat": 4,
 "nbformat_minor": 5
}
